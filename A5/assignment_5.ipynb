{
 "cells": [
  {
   "cell_type": "markdown",
   "metadata": {},
   "source": [
    "# Assigment 5\n",
    "\n",
    "## Upload your code (.ipynb) on Learn dropbox and submit pdfs of the code and to Crowdmark.\n",
    "\n",
    "## -----------------------------------------------------------------------------------------------------------"
   ]
  },
  {
   "cell_type": "markdown",
   "metadata": {},
   "source": [
    "## Classification"
   ]
  },
  {
   "cell_type": "markdown",
   "metadata": {},
   "source": [
    "Download the dataset \n",
    "    news20.binary dataset: https://www.csie.ntu.edu.tw/~cjlin/libsvmtools/datasets/binary.html#news20.binary\n",
    "Check Assignment 4 for instructions about loading this dataset.\n",
    "\n",
    "Question 1\n",
    "-------------\n",
    "\n",
    "Solve the l1-regularized logistic regression problem\n",
    "$$\\mbox{minimize}_{x\\in\\mathbb{R}^d,\\beta\\in\\mathbb{R}} \\ \\lambda \\|x\\|_1 + \\frac{1}{n} \\sum_{i=1}^n \\log (1+ \\exp(-b_i(a_i^Tx + \\beta)))$$\n",
    "using \n",
    "\n",
    "1) Proximal gradient descent\n",
    "\n",
    "2) Accelerated proximal gradient descent\n",
    "\n",
    "3) Proximal coordinate descent\n",
    "\n",
    "4) Accelerated proximal coordinate descent\n",
    "\n",
    "Tune the model parameter $\\lambda$ and any parameters that the algorithms have. You only have to tune $\\lambda$ once and use the same $\\lambda$ for all algorithms. Use similar techniques to Assignment 4 to tune $\\lambda$. Plot the objective function (y-axis) vs running time in sec (x-axis) for all algorithms in the same plot. Make sure that the plots are clean and use appropriate legends. Report your generalization error. This should be measured in the same way as Assignment 4.\n",
    "\n",
    "For training split the data into training (the first 15996 datapoints), validation (the next 2000 datapoints) and testing (the next 2000 datapoints). Do not use the testing data to influence training in any way. This means that you should compute the generalization error only once when you finish your work with this part of the assignment.\n",
    "\n",
    "Marks: 15\n",
    "\n",
    "Question 2\n",
    "-------------\n",
    "\n",
    "Pick one algorithm that you want and plot the number of nonzeros in the output of the algorithm against $\\lambda$. Explain in a couple of sentences (or less) what do you observe.\n",
    "\n",
    "Marks: 10"
   ]
  },
  {
   "cell_type": "code",
   "execution_count": 1,
   "metadata": {},
   "outputs": [],
   "source": [
    "# Load this auxiliary package.\n",
    "import sys\n",
    "import os\n",
    "\n",
    "sys.path.append(os.getcwd()+'/libsvm-3.24/python/')\n",
    "from svmutil import *\n",
    "\n",
    "# Numpy is useful for handling arrays and matrices.\n",
    "import numpy as np\n",
    "import matplotlib.pyplot as plt\n",
    "\n",
    "# my import \n",
    "from numpy.linalg import norm\n",
    "import math, random, time, random\n",
    "from scipy import real, ndimage\n",
    "from scipy.sparse import *\n",
    "from sklearn.feature_extraction import DictVectorizer\n",
    "from  scipy.sparse.linalg import expm\n",
    "from sklearn.utils import shuffle\n",
    "\n",
    "\n",
    "\n",
    "b, A = svm_read_problem('./news20.binary')\n",
    "vec = DictVectorizer()\n",
    "A_read = vec.fit_transform(A).tocsr()\n",
    "b_read = np.array(b).reshape(len(b),1)\n",
    "features = A_read.shape[1]\n",
    "# shuffle \n",
    "A_shuffle, b_shuffle = shuffle(A_read, b_read)\n",
    "# Ax+beta = b \n",
    "# add one columns of 1 to A\n",
    "A_ = hstack((A_shuffle, csr_matrix(np.ones(shape=(A_read.shape[0],1), dtype=float), shape=(len(b_read),1)))).tocsr()\n",
    "b_ = b_shuffle\n"
   ]
  },
  {
   "cell_type": "code",
   "execution_count": 72,
   "metadata": {},
   "outputs": [
    {
     "name": "stdout",
     "output_type": "stream",
     "text": [
      "# of features: 1355191\n",
      "features: 1355191\n",
      "var_name             type                                     shape                \n",
      "A_                   <class 'scipy.sparse.csr.csr_matrix'>    (19996, 1355192)     \n",
      "b_                   <class 'numpy.ndarray'>                  (19996, 1)           \n",
      "x0                   <class 'numpy.ndarray'>                  (1355192, 1)         \n",
      "-----                -----                                    -----                \n",
      "A_training           <class 'scipy.sparse.csr.csr_matrix'>    (15996, 1355192)     \n",
      "A_validation         <class 'scipy.sparse.csr.csr_matrix'>    (2000, 1355192)      \n",
      "A_testing            <class 'scipy.sparse.csr.csr_matrix'>    (2000, 1355192)      \n",
      "b_training           <class 'numpy.ndarray'>                  (15996, 1)           \n",
      "b_validation         <class 'numpy.ndarray'>                  (2000, 1)            \n",
      "b_testing            <class 'numpy.ndarray'>                  (2000, 1)            \n"
     ]
    }
   ],
   "source": [
    "# initialize x0\n",
    "print('# of features:',features)\n",
    "x0 = np.zeros((A_.shape[1],1))\n",
    "x1 = np.ones((A_.shape[1],1))\n",
    "xRandom = np.random.uniform(0.0,1.0,(A_.shape[1],1))\n",
    "\n",
    "print('features:',features)\n",
    "print('{:20s} {:40s} {:20s} '.format('var_name','type','shape'))\n",
    "print('{:20s} {:40s} {:20s} '.format('A_',str(type(A_)),str(A_.shape)))\n",
    "print('{:20s} {:40s} {:20s} '.format('b_',str(type(b_)),str(b_.shape)))\n",
    "print('{:20s} {:40s} {:20s} '.format('x0',str(type(x0)),str(x0.shape)))\n",
    "\n",
    "##########################################################################################################\n",
    "# split A and b to training, validation and testing\n",
    "# training: 15996, validation : 2000, testing: 2000\n",
    "##########################################################################################################\n",
    "A_training = A_[:15996]\n",
    "b_training = b_[:15996]\n",
    "\n",
    "A_validation = A_[15996:17996]\n",
    "b_validation = b_[15996:17996]\n",
    "\n",
    "A_testing = A_[17996:]\n",
    "b_testing = b_[17996:]\n",
    "\n",
    "\n",
    "print('{:20s} {:40s} {:20s} '.format('-----','-----','-----'))\n",
    "print('{:20s} {:40s} {:20s} '.format('A_training',str(type(A_training)),str(A_training.shape)))\n",
    "print('{:20s} {:40s} {:20s} '.format('A_validation',str(type(A_validation)),str(A_validation.shape)))\n",
    "print('{:20s} {:40s} {:20s} '.format('A_testing',str(type(A_testing)),str(A_testing.shape)))\n",
    "print('{:20s} {:40s} {:20s} '.format('b_training',str(type(b_training)),str(b_training.shape)))\n",
    "print('{:20s} {:40s} {:20s} '.format('b_validation',str(type(b_validation)),str(b_validation.shape)))\n",
    "print('{:20s} {:40s} {:20s} '.format('b_testing',str(type(b_testing)),str(b_testing.shape)))\n",
    "\n"
   ]
  },
  {
   "cell_type": "code",
   "execution_count": 3,
   "metadata": {},
   "outputs": [],
   "source": [
    "# set parameters:\n",
    "MAX_ITERATION = 1000\n",
    "LAMBDA =0.001\n",
    "GAMMA = 0.5\n",
    "THETA = GAMMA\n",
    "EPSILON = 0.01\n",
    "\n",
    "\n",
    "\n"
   ]
  },
  {
   "cell_type": "code",
   "execution_count": 24,
   "metadata": {},
   "outputs": [
    {
     "name": "stdout",
     "output_type": "stream",
     "text": [
      "137.19675505193405\n",
      "(1355192, 1)\n"
     ]
    }
   ],
   "source": [
    "# Proximal gradient descent\n",
    "# g(x) = lambda|x|1\n",
    "# f(x) = blah...blah...\n",
    "\n",
    "\n",
    "##########################################################################################################\n",
    "# some helper functions, get regression gradient, get regression loss\n",
    "# proximal for each step\n",
    "# \n",
    "##########################################################################################################\n",
    "\n",
    "\n",
    "# return gradient of f(x)\n",
    "def get_regression_gradient(A,x,b):\n",
    "#     print('aaaaaaaaaaaaaaaa', A.shape, x.shape, b.shape)\n",
    "    grad = (1/A.shape[0] * np.sum(A.multiply((-b/(np.exp(b * A.dot(x)) + 1))), axis = 0)).transpose()\n",
    "#     print('grad.shape',grad.shape)\n",
    "    return grad\n",
    "\n",
    "\n",
    "# l1-regularized logistic regression\n",
    "def get_regression_loss(A,x,b,lambda_):\n",
    "#     loss = lambda_ * np.sum(np.abs(x)) + (1 / A.shape[0]) * (np.sum(np.log(1 + np.exp(- b * A.dot(x)))))\n",
    "    loss = get_g_value(x,lambda_) + get_f_value(A,x,b)\n",
    "    return loss\n",
    "\n",
    "# logistic regression function can be splitted to f(x) and g(x)\n",
    "def get_g_value(x,lambda_):\n",
    "    return lambda_ * np.sum(np.abs(x))\n",
    "    \n",
    "def get_f_value(A,x,b):\n",
    "    return (1 / A.shape[0]) * np.sum(np.log(1 + np.exp(- b * A.dot(x))))\n",
    "\n",
    "# one iteration of the proximal gradient \n",
    "def proximal(A, x, b, alpha_, lambda_):\n",
    "    grad = get_regression_gradient(A, x, b)\n",
    "#     print('proximal, shape', A.shape, x.shape, b.shape)\n",
    "    z = x - alpha_ * grad\n",
    "    a = alpha_ * lambda_\n",
    "    result = np.where(z >= a, z-a, 0)\n",
    "    result = np.where(z <= -a, z+a, result)\n",
    "#     print('result.shape',result.shape)\n",
    "    return result\n",
    "\n",
    "\n",
    "# l(x) = g(x) + f(x) + gradient(x) * delta x; lecture 13, P21\n",
    "def linearization(A, b, x_, x, lambda_):\n",
    "    g = lambda_ * np.sum(np.abs(x_))\n",
    "    f = (1 / A.shape[0]) * (np.sum(np.log(1 + np.exp(- b * A.dot(x)))))\n",
    "    diff = get_regression_gradient(A, x, b).transpose().dot(x_ - x)\n",
    "    l_x = g + f + diff[0,0]\n",
    "    return l_x\n",
    "\n",
    "print(linearization(A_training,b_training,x1,x0,0.0001))\n",
    "print(proximal(A_training,x0,b_training,100,0.00001).shape)"
   ]
  },
  {
   "cell_type": "code",
   "execution_count": 43,
   "metadata": {},
   "outputs": [
    {
     "name": "stdout",
     "output_type": "stream",
     "text": [
      "100\n"
     ]
    }
   ],
   "source": [
    "# armijo_line_search\n",
    "\n",
    "def armijo_line_search(A, x, b, lambda_, theta_):\n",
    "#     print('armijo, shapes', A.shape, x.shape,b.shape)\n",
    "    alpha_ = 100\n",
    "#     alpha_ = ALPHA\n",
    "    xa = proximal(A, x, b, alpha_, lambda_)\n",
    "    \n",
    "    F_xk = get_regression_loss(A, x, b, lambda_)\n",
    "    LHS = get_regression_loss(A, xa, b, lambda_)\n",
    "\n",
    "    # linearization of xk is just the regression loss...\n",
    "    RHS = F_xk - theta_ * (F_xk - linearization(A, b, xa, x, lambda_))\n",
    "    while LHS > RHS:\n",
    "        alpha_ = alpha_ / 2\n",
    "        xa = proximal(A, x, b, alpha_, lambda_)\n",
    "        LHS = get_regression_loss(A, xa, b, lambda_)\n",
    "        # xk does not change... we are finding stepsize for this iteration...\n",
    "        RHS = F_xk - theta_ * (F_xk - linearization(A, b, xa, x, lambda_))\n",
    "    return alpha_, xa\n",
    "\n",
    "# x = np.random.normal(0.0,1.0,[A_training.shape[1],1])/A_training.shape[1]\n",
    "a,xa = armijo_line_search(A_training,x0,b_training,0.0001,0.05)\n",
    "print(a)"
   ]
  },
  {
   "cell_type": "code",
   "execution_count": 140,
   "metadata": {},
   "outputs": [],
   "source": [
    "# Proximal gradient descent\n",
    "# suffix: pgd\n",
    "def proximal_gradient_descent(A, x0, b, max_iterations, lambda_, theta_, epsilon_,recordX=False, printDetail=False):\n",
    "    x, loss, count, st = x0, get_regression_loss(A,x0,b,lambda_), 1, time.time()\n",
    "    time_diff = st-st\n",
    "    x_list, loss_list, time_list = [x0], [loss],[st-st]\n",
    "    if printDetail:\n",
    "        print('{:10s} {:10s} {:10s} {:10s}'.format('count', 'alpha_', 'loss', 'time_diff'))\n",
    "    while count <= max_iterations:\n",
    "        alpha_ = 100\n",
    "        # alpha_ = ALPHA\n",
    "        alpha_, xa = armijo_line_search(A, x, b, lambda_, theta_)\n",
    "        loss = get_regression_loss(A,xa,b,lambda_)\n",
    "        g_x = np.linalg.norm((1 / alpha_) * (x - xa),2)\n",
    "        if g_x < epsilon_: break\n",
    "        time_diff = time.time() -st\n",
    "        time_list.append(time_diff)\n",
    "        loss_list.append(loss)\n",
    "        x = xa\n",
    "        ## printDetail and RecordX\n",
    "        if printDetail:\n",
    "            print('{:10d} {:10f} {:10f} {:10s}'.format(count, alpha_, loss, str(time_diff)))\n",
    "        if recordX:\n",
    "            x_list.append(xa)\n",
    "        count+=1\n",
    "    if printDetail:\n",
    "        print('{:10d} {:10f} {:10f} {:10s}'.format(count, alpha_, loss, str(time_diff)))\n",
    "    if recordX:\n",
    "        return x_list, loss_list, time_list\n",
    "    else:\n",
    "        return x, loss_list, time_list\n",
    "        "
   ]
  },
  {
   "cell_type": "code",
   "execution_count": 142,
   "metadata": {},
   "outputs": [
    {
     "name": "stdout",
     "output_type": "stream",
     "text": [
      "count      alpha_     loss       time_diff \n",
      "         1 100.000000   0.672758 0.46935153007507324\n",
      "         2   3.125000   0.670730 2.8956105709075928\n",
      "         3  25.000000   0.667312 4.14552640914917\n",
      "         4   3.125000   0.665431 6.590547800064087\n",
      "         5  25.000000   0.662105 7.845210313796997\n",
      "         6   3.125000   0.660363 10.264087438583374\n",
      "         7  25.000000   0.657232 11.51492714881897\n",
      "         8   3.125000   0.655523 13.933623313903809\n",
      "         9  25.000000   0.652484 15.184528827667236\n",
      "        10   3.125000   0.650888 17.59311556816101\n",
      "        11  25.000000   0.648045 18.853702783584595\n",
      "        12   3.125000   0.646457 21.33384132385254\n",
      "        13  25.000000   0.643711 22.588024377822876\n",
      "        14   3.125000   0.642208 25.030194520950317\n",
      "        15  25.000000   0.639663 26.32893681526184\n",
      "        16   3.125000   0.638140 28.767924308776855\n",
      "        17  25.000000   0.635703 30.012696027755737\n",
      "        18   3.125000   0.634236 32.4350643157959\n",
      "        19  25.000000   0.632012 33.68784236907959\n",
      "        20   3.125000   0.630494 36.14742994308472\n",
      "        21  25.000000   0.628390 37.429133892059326\n",
      "        22   3.125000   0.626898 39.895243883132935\n",
      "        23  25.000000   0.625031 41.15773797035217\n",
      "        24   3.125000   0.623449 43.64561748504639\n",
      "        25  12.500000   0.622122 45.348400831222534\n",
      "        26   6.250000   0.621258 47.43433713912964\n",
      "        27  12.500000   0.620077 49.09565043449402\n",
      "        28   6.250000   0.619143 51.156731843948364\n",
      "        29   6.250000   0.618356 53.194783449172974\n",
      "        30  12.500000   0.617132 54.82058572769165\n",
      "        31   6.250000   0.616299 56.85294961929321\n",
      "        32  12.500000   0.615241 58.48086643218994\n",
      "        33   3.125000   0.614532 60.920604944229126\n",
      "        34  50.000000   0.611078 61.76203393936157\n",
      "        35   3.125000   0.608995 64.24963688850403\n",
      "        36  12.500000   0.608037 65.91444277763367\n",
      "        37   3.125000   0.607378 68.37573599815369\n",
      "        38  50.000000   0.604336 69.2157347202301\n",
      "        39   3.125000   0.602325 71.66131162643433\n",
      "        40  12.500000   0.601472 73.28220868110657\n",
      "        41   3.125000   0.600837 75.71958708763123\n",
      "        42  50.000000   0.598280 75.71958708763123\n"
     ]
    }
   ],
   "source": [
    "x_pgd, loss_pgd, time_pgd = proximal_gradient_descent(A_training, x0, b_training, MAX_ITERATION, LAMBDA, THETA, EPSILON,False,True)"
   ]
  },
  {
   "cell_type": "code",
   "execution_count": null,
   "metadata": {},
   "outputs": [],
   "source": [
    "# # Accelerated proximal gradient descent\n",
    "# # suffix: apgd\n",
    "# def acce_proximal_gradient_descent(A, x0, b, max_iterations, lambda_, theta_, epsilon_,recordX=False, printDetail=False):\n",
    "#     x_list = list()\n",
    "#     loss_list = list()\n",
    "#     gradient_list = list()\n",
    "#     time_list = list()\n",
    "    \n",
    "#     x_prev = x0\n",
    "#     count = 0\n",
    "#     start = time.time()\n",
    "#     loss = get_regression_loss(A, x_prev, b, lambda_)\n",
    "#     print(loss)\n",
    "    \n",
    "#     loss_list.append(loss)\n",
    "#     time_list.append(time.time() - start)\n",
    "#     x_list.append(x_prev)\n",
    "#     y = x0\n",
    "#     t = 1\n",
    "#     if printDetail:\n",
    "#         print('{:10s} {:10s} {:10s} {:10s}'.format('count', 'alpha_', 'loss', 'time_diff'))\n",
    "#     while count <= max_iterations:\n",
    "#         alpha_ = 100\n",
    "#         # alpha_ = ALPHA\n",
    "#         alpha_, x = armijo_line_search(A, y, b, lambda_, theta_)\n",
    "#         loss = get_regression_loss(A,x,b,lambda_)\n",
    "#         g_x = np.linalg.norm((1 / alpha_) * (y - x),2)\n",
    "        \n",
    "#         # update x,y,t,k\n",
    "#         tk = t\n",
    "#         t_new = (1 + np.sqrt(1 + 4*(t**2)))/2\n",
    "#         y = x + ((tk-1)/t) * (x - x_prev)\n",
    "#         x_prev = x\n",
    "        \n",
    "#         time_diff = time.time() - start\n",
    "#         time_list.append(time_diff)\n",
    "#         loss_list.append(loss)\n",
    "#         if g_x < epsilon_: \n",
    "#             break\n",
    "#         ## printDetail and RecordX\n",
    "#         if printDetail:\n",
    "#             print('{:10d} {:10f} {:10f} {:10s}'.format(count, alpha_, loss, str(time_diff)))\n",
    "#         if recordX:\n",
    "#             x_list.append(xa)\n",
    "#         count+=1\n",
    "# #     print info for last iteration if required   \n",
    "#     if printDetail:\n",
    "#         print('{:10d} {:10f} {:10f} {:10s}'.format(count, alpha_, loss, str(time_diff)))\n",
    "#     if recordX:\n",
    "#         return x_list, loss_list, time_list\n",
    "#     else:\n",
    "#         return x, loss_list, time_list\n",
    "        "
   ]
  },
  {
   "cell_type": "code",
   "execution_count": null,
   "metadata": {},
   "outputs": [],
   "source": [
    "# x_apgd, loss_apgd, time_apgd = acce_proximal_gradient_descent(A_training, x1, b_training, 1000, 0.0001, 0.5, 1.0e-2,False,True)"
   ]
  },
  {
   "cell_type": "code",
   "execution_count": 143,
   "metadata": {},
   "outputs": [],
   "source": [
    "def acce_proximal_gradient_descent(A, x0, b, max_iterations, lambda_, theta_, epsilon_, recordX=False, printDetail=False):\n",
    "    x, loss, count, st = x0,get_regression_loss(A, x0, b, lambda_),0,time.time()\n",
    "    x_list, loss_list, time_list = [x0], [loss],[st-st]\n",
    "    x_prev = x0\n",
    "    \n",
    "    loss_list.append(loss)\n",
    "    time_list.append(time.time() - st)\n",
    "    x_list.append(x_prev)\n",
    "    y = x0\n",
    "    t = 1\n",
    "    if printDetail:\n",
    "        print('{:10s} {:10s} {:10s} {:10s}'.format('count', 'alpha_', 'loss', 'time_diff'))\n",
    "\n",
    "    while count <= max_iterations:\n",
    "        alpha_, x = armijo_line_search(A, y, b, lambda_, theta_)\n",
    "        g_x = np.linalg.norm((1 / alpha_) * (y - x), 2)\n",
    "        loss = get_regression_loss(A, x, b, lambda_)\n",
    "        tk = t\n",
    "        t = (1 + np.sqrt(1 + 4 * (tk ** 2))) / 2\n",
    "        y = x + ((tk - 1) / t) * (x - x_prev)\n",
    "        x_prev = x\n",
    "\n",
    "        time_diff = time.time() - st\n",
    "        time_list.append(time_diff)\n",
    "        loss_list.append(loss)\n",
    "        if g_x < epsilon_: \n",
    "            break\n",
    "        ## printDetail and RecordX\n",
    "        if printDetail:\n",
    "            print('{:10d} {:10f} {:10f} {:10s}'.format(count, alpha_, loss, str(time_diff)))\n",
    "        if recordX:\n",
    "            x_list.append(xa)\n",
    "        count+=1\n",
    "#     print info for last iteration if required   \n",
    "    if printDetail:\n",
    "        print('{:10d} {:10f} {:10f} {:10s}'.format(count, alpha_, loss, str(time_diff)))\n",
    "    if recordX:\n",
    "        return x_list, loss_list, time_list\n",
    "    else:\n",
    "        return x, loss_list, time_list\n",
    "\n"
   ]
  },
  {
   "cell_type": "code",
   "execution_count": 145,
   "metadata": {},
   "outputs": [
    {
     "name": "stdout",
     "output_type": "stream",
     "text": [
      "count      alpha_     loss       time_diff \n",
      "         0 100.000000   0.690236 0.45471644401550293\n"
     ]
    }
   ],
   "source": [
    "x_acc_pgd, loss_acc_pgd, time_acc_pgd = acce_proximal_gradient_descent(A_training, x0, b_training, MAX_ITERATION, LAMBDA, THETA, EPSILON,False,True)"
   ]
  },
  {
   "cell_type": "code",
   "execution_count": null,
   "metadata": {},
   "outputs": [],
   "source": [
    "ALPHA = 1000\n",
    "def coordinate_armijo_line_search(A, b, x, lambda_, alpha_, theta_, batch, recordX=False, printDetail=False):\n",
    "    x_a = x\n",
    "    x_ = coordinate_prox(A, b, x, alpha_, lambda_, batch)\n",
    "    x_a[batch, :] = x_\n",
    "    F_x = get_regression_loss(A, x, b, lambda_)\n",
    "    l_x = coordinate_linearization(A, b, x, x, lambda_, batch)\n",
    "    compare_1 = l1_logistic_regression(A, b, x_a, lambda_)\n",
    "    compare_2 = F_x - theta_ * (l_x - coordinate_linearization(A, b, x_a, x, lambda_, batch))\n",
    "    while compare_1 > compare_2:\n",
    "        alpha_ = alpha_ / 2\n",
    "        x_ = coordinate_prox(A, b, x, alpha_, lambda_, batch)\n",
    "        x_a[batch, :] = x_\n",
    "        compare_1 = l1_logistic_regression(A, b, x_a, lambda_)\n",
    "        compare_2 = F_x - theta_ * (l_x - coordinate_linearization(A, b, x_a, x, lambda_, batch))\n",
    "    return alpha_, x_a"
   ]
  },
  {
   "cell_type": "code",
   "execution_count": null,
   "metadata": {},
   "outputs": [],
   "source": []
  },
  {
   "cell_type": "code",
   "execution_count": null,
   "metadata": {},
   "outputs": [],
   "source": []
  },
  {
   "cell_type": "code",
   "execution_count": null,
   "metadata": {},
   "outputs": [],
   "source": []
  },
  {
   "cell_type": "code",
   "execution_count": null,
   "metadata": {},
   "outputs": [],
   "source": []
  },
  {
   "cell_type": "markdown",
   "metadata": {},
   "source": [
    "## Label Propagation"
   ]
  },
  {
   "cell_type": "code",
   "execution_count": 97,
   "metadata": {},
   "outputs": [
    {
     "data": {
      "image/png": "[encoded data removed]",
      "text/plain": [
       "<Figure size 720x720 with 1 Axes>"
      ]
     },
     "metadata": {
      "needs_background": "light"
     },
     "output_type": "display_data"
    }
   ],
   "source": [
    "# Load datasets from sklearn\n",
    "from sklearn import datasets\n",
    "\n",
    "# Load the digits dataset.\n",
    "# See here for a distription of this dataset: \n",
    "# https://scikit-learn.org/stable/modules/generated/sklearn.datasets.load_digits.html#sklearn.datasets.load_digits\n",
    "digits = datasets.load_digits()\n",
    "\n",
    "# Briefly, this dataset has 1797 images of digits. The digits are from 0 to 9.\n",
    "# There are about 180 images per digit.\n",
    "\n",
    "# digits.data includes the vectorized images of the digits\n",
    "# digits.target includes the labels of the images\n",
    "# digits.images includes the images in non-vectorized format\n",
    "\n",
    "# Example: number 0\n",
    "import matplotlib.pyplot as plt\n",
    "\n",
    "plt.figure(1, figsize=(10, 10))\n",
    "plt.imshow(digits.images[0], cmap='gray')\n",
    "plt.show()"
   ]
  },
  {
   "cell_type": "markdown",
   "metadata": {},
   "source": [
    "Let x_i and x_j be two vectorized images.\n",
    "Compute their pairwise similarity by\n",
    "$$ \n",
    "w_{ij} = \\exp(-\\gamma \\|x_i-x_j\\|_2^2),\n",
    "$$\n",
    "where $\\gamma$ is parameter tha controls the importance of the distance $\\|x_i-x_j\\|_2^2$. If $\\gamma=1/(2\\sigma^2)$ then this is called the Gaussian kernel and $\\sigma^2$ represents the variance.\n",
    "You can compute the similarities by using: https://scikit-learn.org/stable/modules/generated/sklearn.metrics.pairwise.rbf_kernel.html.\n",
    "Alterantively, you can compute the pairwise similarities manually, by using the above formula.\n",
    "\n",
    "Sparsify the graph by setting small values to zero. The thresholding tolerance is a parameter that you will have to tune. Generally, there is a consensus that sparse similarity matrices result in better performance. So, you should expect that, but have in mind that this is only an empirical observation."
   ]
  },
  {
   "cell_type": "code",
   "execution_count": 57,
   "metadata": {},
   "outputs": [],
   "source": [
    "# Example\n",
    "import sklearn\n",
    "\n",
    "# Pairwise weights matrix\n",
    "W = sklearn.metrics.pairwise.rbf_kernel(digits.data)\n",
    "\n",
    "# Remove self-similarity\n",
    "import numpy as np\n",
    "W = W - np.eye(len(W))\n",
    "\n",
    "# Sparsify (tune the tolerance parameter for your problem)\n",
    "tol = 1e-16\n",
    "W[abs(W) < tol] = 0.0"
   ]
  },
  {
   "cell_type": "markdown",
   "metadata": {},
   "source": [
    "This dataset provides labels for every image of a digit. However, in this assignment we want to check how the label propagation model works. Use all images, i.e., 1797 images of digits, but use only 10 labels per type of digit, e.g., use the first 10 labels for digit 0, the first 10 labels of digit 1 etc. This means that you should use 100 labels in total out of 1797. Do not use the remaining labels for training the model. The remaining labels will be used only to measure accuracy of the model.\n",
    "\n",
    "Question 3\n",
    "-------------\n",
    "Train the label propagation model\n",
    "$$\n",
    "\\mbox{minimize}_{b\\in\\mathbb{R}^n} \\ \\frac{1}{2}\\sum_{i=1}^n\\sum_{j=1}^n w_{ij} (b_i -b_j)^2 + \\sum_{i=1}^{m-n}\\sum_{j=1}^n \\bar{w}_{ij} (\\bar{b}_i -b_j)^2\n",
    "$$\n",
    "using the coordinate method that was discussed in Lecture 14 for the label propagation problem. Make sure that you understand the derivation of the algorithm before you apply it to train the label propagation model.\n",
    "\n",
    "The output of the algorithm should be the soft labels $b$ for each image. However, these soft labels are not going to be integers (actual labels). Therefore, we have to round the output labels $b$ to get integer labels for each image. One possible way to round the output is to simply find the integer label (possible options 0 to 9) that a soft label is closest to. Then pick this label as the label of the image.\n",
    "\n",
    "After you label all images, use the function in https://scikit-learn.org/stable/modules/generated/sklearn.metrics.precision_recall_fscore_support.html to measure precision, recall and f1_score. You only have to provide the true and the predicted labels when using this function. Do not change the default parameters.\n",
    "\n",
    "If you want to learn more about precision, recall and f1_score check Wikipedia: \n",
    "precision and recall: https://en.wikipedia.org/wiki/Precision_and_recall\n",
    "f1_score: https://en.wikipedia.org/wiki/F1_score.\n",
    "\n",
    "Report precision, recall and f1score of your method.\n",
    "\n",
    "Marks: 20\n",
    "\n",
    "Question 4\n",
    "-------------\n",
    "\n",
    "Increase the number of labels that are used in the model from 10 per digit to 20 per digit. Re-train and report precision, recall and f1score of your method. Explain in a couple of sentences what do you observe.\n",
    "\n",
    "Marks: 5"
   ]
  },
  {
   "cell_type": "markdown",
   "metadata": {},
   "source": [
    "## Local Graph Clustering "
   ]
  },
  {
   "cell_type": "code",
   "execution_count": 10,
   "metadata": {},
   "outputs": [
    {
     "name": "stdout",
     "output_type": "stream",
     "text": [
      "910\n"
     ]
    }
   ],
   "source": [
    "import numpy as np\n",
    "\n",
    "# Import networkx to load the data\n",
    "import networkx as nx\n",
    "\n",
    "# Provide the path of the dataset JohnsHopkins55\n",
    "path = 'JohnsHopkins55.graphml'\n",
    "\n",
    "# This dataset is a Facebook anonymized dataset on a particular day in September 2005 \n",
    "# for a student social network at John Hopkins university. The graph is unweighted \n",
    "# and it represents ``friendship'' ties. This graph has 5157 nodes and 186572 edges. \n",
    "# This dataset comes along with 6 features, i.e., second major, high school, gender, dorm, major index and year. \n",
    "# We construct ``ground truth'' clusters by using the features for each node.\n",
    "# In particular, we consider nodes with the same value of a feature to be a cluster, e.g., students of year 2009. \n",
    "# For this assignment we will attempt to find the students of year 2009 using local graph clustering.\n",
    "\n",
    "# Load the data as a graph\n",
    "G = nx.read_graphml(path).to_undirected()\n",
    "\n",
    "# Construct the adjacency matrix\n",
    "A = nx.adjacency_matrix(G).astype(np.float64)\n",
    "\n",
    "# Indices of nodes (students) of class year 2009\n",
    "# There should be 910 students of class year 2009.\n",
    "# We will use these students to measure performance of the model\n",
    "students_of_year_2009 = []\n",
    "ct = 0\n",
    "for node in G.nodes(data=True):\n",
    "    if node[1]['year'] == 2009:\n",
    "        students_of_year_2009.append(ct)\n",
    "    ct += 1\n",
    "print(len(students_of_year_2009))"
   ]
  },
  {
   "cell_type": "markdown",
   "metadata": {},
   "source": [
    "The target cluster is the students of year 2009 in the list: students_of_year_2009.\n",
    "\n",
    "For this problem you will have to use the coordinate algorithm that was introduced in Lecture 14.\n",
    "\n",
    "The coordinate algorithm returns a vector $p$. To get an actual cluster from vector $p$ you will have to round the output of the coordinate algorithm using the rounding technique that was discussed in Lecture 14. \n",
    "\n",
    "To measure accuracy of the rounded output you can use number of true positives and the number of false positives of the predicted cluster. True positives are the predicted nodes that are also part of class year 2009. False positive are the number of predicted nodes that are not part of the class year 2009.\n",
    "\n",
    "Question 5\n",
    "-------------\n",
    "\n",
    "1) Report the number of nonzero nodes in the output of the coordinate algorithm (vector $p$) as the tolerance parameter $\\epsilon$ goes to zero. In particular, plot the number of nonzeros in the output $p$ against $\\epsilon$.\n",
    "The number of nonzeros should increase as $\\epsilon$ goes to zero.\n",
    "\n",
    "Marks: 10\n",
    "\n",
    "Question 6\n",
    "-------------\n",
    "\n",
    "2) Run the coordinate algorithm using as seed node the node with index 5000. Round the output to get an actual cluster back. Measure true positives and false positives of the predicted cluster. Report these two numbers.\n",
    "\n",
    "Marks: 10\n",
    "\n",
    "Question 7\n",
    "-------------\n",
    "\n",
    "3) Run the coordinate algorithm using as seed node the node with index 146. Round the output to get an actual cluster back. Measure true positives and false positive of the predicted cluster. Report these two numbers. How do they compare to the results in 2) ? Are they different? If yes, why do you think this might have happened? Explain intuitively in a couple of sentences why you think this might happen.\n",
    "\n",
    "Marks: 5"
   ]
  },
  {
   "cell_type": "markdown",
   "metadata": {},
   "source": [
    "## Reccomender System"
   ]
  },
  {
   "cell_type": "markdown",
   "metadata": {},
   "source": [
    "Download the data matrix $A$ from the webiste https://grouplens.org. Navigate to the dataset tab https://grouplens.org/datasets/movielens/ and download the dataset MovieLens 100K. Read the description of the dataset carefully. \n",
    "This dataset includes 5 data matrices $A$. We only need to use one of these in this assignment. In particular, use the dataset u1.base. Use the corresponding testing data u1.test to measure the accuracy of your model. For this question only it's ok if you use the testing data to tune parameters. Ignore the timestap feature in the dataset. We do not need this for this problem.\n",
    "\n",
    "Question 8\n",
    "------------\n",
    "\n",
    "Solve the penalized problem\n",
    "$$\n",
    "\\mbox{minimize} \\ \\lambda \\|X\\|_* + \\sum_{ij \\ | \\ A_{ij} \\ is \\ known} (X_{ij} - A_{ij})^2,\n",
    "$$\n",
    "where $\\|X\\|_*$ is the nuclear norm, using proximal gradient descent. This algorithm requires thresholding the singular values of $X$ at each iteration.\n",
    "You can use https://docs.scipy.org/doc/scipy/reference/generated/scipy.linalg.svd.html (sparse matrices) or https://docs.scipy.org/doc/numpy/reference/generated/numpy.linalg.svd.html (dense matrices).\n",
    "\n",
    "To check your solution against u1.test, report your score as follows. Let $X$ be the output of the proximal gradient method, let $A'$ and $\\Omega'$ be the data matrix and the non-zero entry list for the test data. Then the score is \n",
    "$$\n",
    "\\frac{1}{|\\Omega'|} \\sum_{(i,j)\\in\\Omega'} | X_{ij} - A_{ij}'|.\n",
    "$$\n",
    "In other words, the average absolute deviation of the computed ratings from the predicted ratings. Report your score.\n",
    "\n",
    "Marks: 15\n",
    "\n",
    "Question 9\n",
    "------------\n",
    "\n",
    "Now consider the factorized problem\n",
    "$$\n",
    "\\mbox{minimize}_{L,R} \\ \\frac{\\lambda}{2} \\left(\\|L\\|_F^2 + \\|R\\|_F^2\\right) + \\|W\\circ (LR^T-A)\\|_F^2\n",
    "$$\n",
    "See Lecture 15 about details for this problem. Solve this problem and obtain the matrix $X=LR^T$. Use $X$ as the predicted rating and report your score. For calculating derivatives of matrix functions you can have a look here: https://www.math.uwaterloo.ca/~hwolkowi/matrixcookbook.pdf. \n",
    "\n",
    "Marks: 10"
   ]
  },
  {
   "cell_type": "markdown",
   "metadata": {},
   "source": [
    "## Nonnegative Matrix Factorization: facial feature extraction"
   ]
  },
  {
   "cell_type": "code",
   "execution_count": 36,
   "metadata": {},
   "outputs": [
    {
     "name": "stdout",
     "output_type": "stream",
     "text": [
      "Dataset consists of 400 faces\n"
     ]
    },
    {
     "data": {
      "image/png": "[encoded data removed]",
      "text/plain": [
       "<Figure size 432x325.44 with 6 Axes>"
      ]
     },
     "metadata": {},
     "output_type": "display_data"
    }
   ],
   "source": [
    "# This piece of code is for loading data and visualizing \n",
    "# the first 6 images in the dataset.\n",
    "\n",
    "# Useful packages for loading the data and plotting\n",
    "from numpy.random import RandomState\n",
    "import matplotlib.pyplot as plt\n",
    "from sklearn.datasets import fetch_olivetti_faces\n",
    "\n",
    "n_row, n_col = 2, 3\n",
    "image_shape = (64, 64)\n",
    "rng = RandomState(0)\n",
    "\n",
    "# Useful function for plotting\n",
    "def plot_gallery(title, images, n_col=n_col, n_row=n_row, cmap=plt.cm.gray):\n",
    "    plt.figure(figsize=(2. * n_col, 2.26 * n_row))\n",
    "    plt.suptitle(title, size=16)\n",
    "    for i, comp in enumerate(images):\n",
    "        plt.subplot(n_row, n_col, i + 1)\n",
    "        vmax = max(comp.max(), -comp.min())\n",
    "        plt.imshow(comp.reshape(image_shape), cmap=cmap,\n",
    "                   interpolation='nearest',\n",
    "                   vmin=-vmax, vmax=vmax)\n",
    "        plt.xticks(())\n",
    "        plt.yticks(())\n",
    "    plt.subplots_adjust(0.01, 0.05, 0.99, 0.93, 0.04, 0.)\n",
    "\n",
    "# Load faces data\n",
    "dataset = fetch_olivetti_faces(shuffle=True, random_state=rng)\n",
    "\n",
    "# Store the vectorized images. Each image has dimensions 64 x 64.\n",
    "faces = dataset.data\n",
    "\n",
    "print(\"Dataset consists of %d faces\" % n_samples)\n",
    "    \n",
    "plot_gallery(\"First 6 faces from the dataset\", faces[:6])    "
   ]
  },
  {
   "cell_type": "markdown",
   "metadata": {},
   "source": [
    "Question 10\n",
    "--------------\n",
    "\n",
    "Use the data in \"faces\" from the above code for the nonnegative matrix factorization problem \n",
    "\\begin{align*}\n",
    "\\mbox{minimize}_{W,H} &  \\ \\| WH-X\\|_F^2\\\\\n",
    "\\mbox{subj. to} & \\ W_{ij}\\ge 0 \\ \\forall i,j \\\\\n",
    "                &  \\ H_{ij}\\ge 0 \\ \\forall i,j\n",
    "\\end{align*}\n",
    "where $W\\in\\mathbb{R}^{m\\times r}$ and $H\\in\\mathbb{R}^{r\\times n}$.\n",
    "Set parameter $r=6$ in the nonnegative factorization problem. Extract the features matrix $W$ by solving the non-negative matrix factorization problem. Report the 6 features of the faces dataset, i.e., the 6 columns of matrix $W$. You can report the features by visualizing them in a similar way to the above example.\n",
    "\n",
    "Marks: 15\n",
    "\n",
    "Question 11\n",
    "--------------\n",
    "\n",
    "Visualize the approximation of the first 6 images using the feature matrix $W$ and the importance matrix $H$. Note that each face can be approaximated by a linear combination of features (columns) from matrix $W$. The positive coefficients of this linear combination are given by matrix $H$.\n",
    "\n",
    "Marks: 5\n",
    "\n",
    "Question 12\n",
    "--------------\n",
    "\n",
    "Use matrix $H$ to find the 3 most important features of the first 6 faces. To find the 3 most important features for an image pick the columns of $W$ with the largest coefficients in matrix $H$.\n",
    "\n",
    "Marks: 5"
   ]
  },
  {
   "cell_type": "code",
   "execution_count": null,
   "metadata": {},
   "outputs": [],
   "source": []
  },
  {
   "cell_type": "code",
   "execution_count": null,
   "metadata": {},
   "outputs": [],
   "source": []
  },
  {
   "cell_type": "code",
   "execution_count": null,
   "metadata": {},
   "outputs": [],
   "source": []
  },
  {
   "cell_type": "code",
   "execution_count": null,
   "metadata": {},
   "outputs": [],
   "source": []
  },
  {
   "cell_type": "code",
   "execution_count": null,
   "metadata": {},
   "outputs": [],
   "source": []
  },
  {
   "cell_type": "code",
   "execution_count": null,
   "metadata": {},
   "outputs": [],
   "source": []
  },
  {
   "cell_type": "code",
   "execution_count": null,
   "metadata": {},
   "outputs": [],
   "source": []
  },
  {
   "cell_type": "code",
   "execution_count": null,
   "metadata": {},
   "outputs": [],
   "source": []
  },
  {
   "cell_type": "code",
   "execution_count": null,
   "metadata": {},
   "outputs": [],
   "source": []
  },
  {
   "cell_type": "code",
   "execution_count": null,
   "metadata": {},
   "outputs": [],
   "source": []
  },
  {
   "cell_type": "code",
   "execution_count": null,
   "metadata": {},
   "outputs": [],
   "source": []
  },
  {
   "cell_type": "code",
   "execution_count": null,
   "metadata": {},
   "outputs": [],
   "source": []
  },
  {
   "cell_type": "code",
   "execution_count": null,
   "metadata": {},
   "outputs": [],
   "source": []
  },
  {
   "cell_type": "code",
   "execution_count": null,
   "metadata": {},
   "outputs": [],
   "source": []
  },
  {
   "cell_type": "code",
   "execution_count": null,
   "metadata": {},
   "outputs": [],
   "source": []
  },
  {
   "cell_type": "code",
   "execution_count": null,
   "metadata": {},
   "outputs": [],
   "source": []
  },
  {
   "cell_type": "code",
   "execution_count": null,
   "metadata": {},
   "outputs": [],
   "source": []
  },
  {
   "cell_type": "code",
   "execution_count": null,
   "metadata": {},
   "outputs": [],
   "source": []
  },
  {
   "cell_type": "code",
   "execution_count": null,
   "metadata": {},
   "outputs": [],
   "source": []
  },
  {
   "cell_type": "code",
   "execution_count": null,
   "metadata": {},
   "outputs": [],
   "source": []
  },
  {
   "cell_type": "code",
   "execution_count": null,
   "metadata": {},
   "outputs": [],
   "source": []
  },
  {
   "cell_type": "code",
   "execution_count": null,
   "metadata": {},
   "outputs": [],
   "source": []
  },
  {
   "cell_type": "code",
   "execution_count": null,
   "metadata": {},
   "outputs": [],
   "source": []
  },
  {
   "cell_type": "code",
   "execution_count": null,
   "metadata": {},
   "outputs": [],
   "source": []
  },
  {
   "cell_type": "code",
   "execution_count": null,
   "metadata": {},
   "outputs": [],
   "source": []
  },
  {
   "cell_type": "code",
   "execution_count": null,
   "metadata": {},
   "outputs": [],
   "source": []
  },
  {
   "cell_type": "code",
   "execution_count": null,
   "metadata": {},
   "outputs": [],
   "source": []
  },
  {
   "cell_type": "code",
   "execution_count": null,
   "metadata": {},
   "outputs": [],
   "source": []
  },
  {
   "cell_type": "code",
   "execution_count": null,
   "metadata": {},
   "outputs": [],
   "source": []
  },
  {
   "cell_type": "code",
   "execution_count": null,
   "metadata": {},
   "outputs": [],
   "source": []
  },
  {
   "cell_type": "code",
   "execution_count": null,
   "metadata": {},
   "outputs": [],
   "source": []
  },
  {
   "cell_type": "code",
   "execution_count": null,
   "metadata": {},
   "outputs": [],
   "source": []
  },
  {
   "cell_type": "code",
   "execution_count": null,
   "metadata": {},
   "outputs": [],
   "source": []
  },
  {
   "cell_type": "code",
   "execution_count": null,
   "metadata": {},
   "outputs": [],
   "source": []
  },
  {
   "cell_type": "code",
   "execution_count": null,
   "metadata": {},
   "outputs": [],
   "source": []
  },
  {
   "cell_type": "code",
   "execution_count": null,
   "metadata": {},
   "outputs": [],
   "source": []
  }
 ],
 "metadata": {
  "kernelspec": {
   "display_name": "Python 3",
   "language": "python",
   "name": "python3"
  },
  "language_info": {
   "codemirror_mode": {
    "name": "ipython",
    "version": 3
   },
   "file_extension": ".py",
   "mimetype": "text/x-python",
   "name": "python",
   "nbconvert_exporter": "python",
   "pygments_lexer": "ipython3",
   "version": "3.6.8"
  }
 },
 "nbformat": 4,
 "nbformat_minor": 2
}
